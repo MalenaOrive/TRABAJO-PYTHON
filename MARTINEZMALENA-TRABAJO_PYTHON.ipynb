{
 "cells": [
  {
   "cell_type": "markdown",
   "metadata": {},
   "source": [
    "# TRABAJO DE PYTHON\n",
    "\n",
    "### Este trabajo cuenta el 30% de la nota. La entrega será el 5 de Noviembre a las 23:59.\n",
    "\n",
    "### Resuelve los siguientes ejercicios en Python sin usar expresiones regulares\n",
    "\n",
    "#### Utiliza tantas celdas de código como necesites\n",
    "\n",
    "##\n",
    "\n",
    "\n",
    "\n",
    "\n",
    "\n",
    "\n",
    "\n"
   ]
  },
  {
   "cell_type": "markdown",
   "metadata": {},
   "source": [
    "### 1.- BUSCA LA SECUENCIA COMPLEMENTARIA\n",
    "#### Devuelve la secuencia complementaria de la siguiente secuencia de ADN"
   ]
  },
  {
   "cell_type": "code",
   "execution_count": 1,
   "metadata": {},
   "outputs": [],
   "source": [
    "my_dna = \"ACTGATCGATTACGTATAGTATTTGCTATCATACATATATATCGATGCGTTCAT\""
   ]
  },
  {
   "cell_type": "code",
   "execution_count": 2,
   "metadata": {},
   "outputs": [],
   "source": [
    "#creo un diccionario con las bases complementarias correspondientes\n",
    "bases_complementarias = {\"A\": \"T\" , \"T\": \"A\" , \"C\": \"G\" , \"G\": \"C\" } "
   ]
  },
  {
   "cell_type": "code",
   "execution_count": 3,
   "metadata": {},
   "outputs": [
    {
     "name": "stdout",
     "output_type": "stream",
     "text": [
      "TGACTAGCTAATGCATATCATAAACGATAGTATGTATATATAGCTACGCAAGTA\n"
     ]
    }
   ],
   "source": [
    "#empleo la función def para definir una función personalizada formada por comandos para que puedan leer la secuencia my_dna \n",
    "def secuencia_complementaria(my_dna):\n",
    "    bases_complementarias #indico el diccionario con las bases nitrogenadas complementarias\n",
    "    complementaria = ''.join([bases_complementarias[base] for base in my_dna]) #creo una variable y empleo la función .join\n",
    "    return complementaria\n",
    "\n",
    "complementaria = secuencia_complementaria(my_dna) #defino la variable complementaria\n",
    "print(complementaria) #imprimo la secuencia complementaria\n"
   ]
  },
  {
   "cell_type": "code",
   "execution_count": null,
   "metadata": {},
   "outputs": [],
   "source": [
    "#nota:\n",
    "#.join --> empleo .join para unir los elementos de la secuencia my_dna en una sola cadena de texto llamada complementaria\n",
    "#esta función se emplea \" \" y es para secuencias separadoras"
   ]
  },
  {
   "cell_type": "markdown",
   "metadata": {},
   "source": [
    "##\n",
    "### 2.- FRAGMENTOS DE RESTRICCION\n",
    "#### Obtén los fragmentos de restricción de EcoRI, que tiene un sitio de corte en G*AATTC (la posición de corte se indica por el *).\n",
    "#### No uses expresiones regulares. \n",
    "#### Pista: utiliza la función find()"
   ]
  },
  {
   "cell_type": "code",
   "execution_count": 4,
   "metadata": {
    "scrolled": true
   },
   "outputs": [],
   "source": [
    "my_dna = \"ACTGATCGATTACGTATAGTATTTGCTATGAATTCCATACATATATATCGATGCGTTCAT\""
   ]
  },
  {
   "cell_type": "code",
   "execution_count": 5,
   "metadata": {
    "scrolled": true
   },
   "outputs": [
    {
     "data": {
      "text/plain": [
       "30"
      ]
     },
     "execution_count": 5,
     "metadata": {},
     "output_type": "execute_result"
    }
   ],
   "source": [
    "#uso .find con my_dna para encontrar la subcadena \"GAATTC\"\n",
    "#.find() me indica la posición de la primera subcadena que encuentra en la cadena my_dna\n",
    "indice_corte = my_dna.find(\"GAATTC\")+1 #con +1 le indico que corte después de la G\n",
    "indice_corte"
   ]
  },
  {
   "cell_type": "code",
   "execution_count": 6,
   "metadata": {
    "scrolled": false
   },
   "outputs": [
    {
     "name": "stdout",
     "output_type": "stream",
     "text": [
      "el primer fragmento de restricción es ACTGATCGATTACGTATAGTATTTGCTATG y el segundo es AATTCCATACATATATATCGATGCGTTCAT\n"
     ]
    }
   ],
   "source": [
    "#separo la cadena del ADN por medio del índice de corte \n",
    "fragmento1 = my_dna[:indice_corte] #indica que el fragmento1 va desde el principio de la cadena hasta la posición del indice de corte\n",
    "fragmento2 = my_dna[indice_corte:] #indica que el fragmento2 va desde el indice de corte hasta el final de la cadena\n",
    "print (f\"el primer fragmento de restricción es {fragmento1} y el segundo es {fragmento2}\")"
   ]
  },
  {
   "cell_type": "markdown",
   "metadata": {},
   "source": [
    "##\n",
    "### 3.- ENCUENTRA LOS EXONES\n",
    "#### Encuentra los exones en la siguiente secuencia\n",
    "1. El primer exón va de la primera base a la base 63 (empieza a contar desde 0)\n",
    "2. El segundo exón va de la base 91 (contando desde 0) hasta el final\n",
    "3. Calcula el porcentaje de secuencia codificante\n",
    "4. Imprime en pantalla la secuencia original con los exones en mayúsculas y los intrones en minúsculas"
   ]
  },
  {
   "cell_type": "code",
   "execution_count": 7,
   "metadata": {},
   "outputs": [],
   "source": [
    "genomic_dna = \"ATCGATCGATCGATCGACTGACTAGTCATAGCTATGCATGTAGCTACTCGATCGATCGATCGATCGATCGATCGATCGATCGATCATGCTATCATCGATCGATATCGATGCATCGACTACTAT\""
   ]
  },
  {
   "cell_type": "code",
   "execution_count": 8,
   "metadata": {
    "scrolled": true
   },
   "outputs": [
    {
     "data": {
      "text/plain": [
       "'ATCGATCGATCGATCGACTGACTAGTCATAGCTATGCATGTAGCTACTCGATCGATCGATCG'"
      ]
     },
     "execution_count": 8,
     "metadata": {},
     "output_type": "execute_result"
    }
   ],
   "source": [
    "##1.El primer exón va de la primera base a la base 63 (empieza a contar desde 0)\n",
    "primer_exon = genomic_dna[:62]\n",
    "primer_exon"
   ]
  },
  {
   "cell_type": "code",
   "execution_count": 9,
   "metadata": {
    "scrolled": true
   },
   "outputs": [
    {
     "data": {
      "text/plain": [
       "'TCATCGATCGATATCGATGCATCGACTACTAT'"
      ]
     },
     "execution_count": 9,
     "metadata": {},
     "output_type": "execute_result"
    }
   ],
   "source": [
    "##2.El segundo exón va de la base 91 (contando desde 0) hasta el final\n",
    "segundo_exon = genomic_dna[91:]\n",
    "segundo_exon"
   ]
  },
  {
   "cell_type": "code",
   "execution_count": 10,
   "metadata": {
    "scrolled": true
   },
   "outputs": [
    {
     "data": {
      "text/plain": [
       "94"
      ]
     },
     "execution_count": 10,
     "metadata": {},
     "output_type": "execute_result"
    }
   ],
   "source": [
    "##3.Calcula el porcentaje de secuencia codificante \n",
    "#con la función len hallo el nº de bases del primer exon y el segundo exon y los sumo para tener el nº de bases totales de exones\n",
    "#sumo el nº de bases de cada exón\n",
    "exones = len(primer_exon) + len(segundo_exon)\n",
    "exones"
   ]
  },
  {
   "cell_type": "code",
   "execution_count": 11,
   "metadata": {
    "scrolled": true
   },
   "outputs": [
    {
     "data": {
      "text/plain": [
       "123"
      ]
     },
     "execution_count": 11,
     "metadata": {},
     "output_type": "execute_result"
    }
   ],
   "source": [
    "#saco el nº de bases totales de la secuencia genomic_dna\n",
    "secuencias_totales = len(genomic_dna)\n",
    "secuencias_totales"
   ]
  },
  {
   "cell_type": "code",
   "execution_count": 12,
   "metadata": {},
   "outputs": [
    {
     "data": {
      "text/plain": [
       "76.42276422764228"
      ]
     },
     "execution_count": 12,
     "metadata": {},
     "output_type": "execute_result"
    }
   ],
   "source": [
    "#calculo la diferencia entre el nº de bases de exones y el nº de bases totales y lo multiplico por 100 para obtener el porcentaje\n",
    "porcentaje_codificante = (exones/secuencias_totales)*100\n",
    "porcentaje_codificante"
   ]
  },
  {
   "cell_type": "code",
   "execution_count": 13,
   "metadata": {
    "scrolled": true
   },
   "outputs": [
    {
     "name": "stdout",
     "output_type": "stream",
     "text": [
      "tcgatcgatcgatcgatcgatcatgcta\n"
     ]
    }
   ],
   "source": [
    "#4.Imprime en pantalla la secuencia original con los exones en mayúsculas y los intrones en minúscula\n",
    "#saco la secuencia de intrones en función de la base en la que acaba el primer exon y en la que empieza el segundo exon\n",
    "inicio = 63\n",
    "fin = 91\n",
    "INTRONES = genomic_dna[inicio:fin]\n",
    "#reescribo la secuencia de INTRONES en minúscula\n",
    "intrones = INTRONES.lower()\n",
    "print (intrones)"
   ]
  },
  {
   "cell_type": "code",
   "execution_count": 14,
   "metadata": {},
   "outputs": [
    {
     "data": {
      "text/plain": [
       "'ATCGATCGATCGATCGACTGACTAGTCATAGCTATGCATGTAGCTACTCGATCGATCGATCGtcgatcgatcgatcgatcgatcatgctaTCATCGATCGATATCGATGCATCGACTACTAT'"
      ]
     },
     "execution_count": 14,
     "metadata": {},
     "output_type": "execute_result"
    }
   ],
   "source": [
    "#MIRAR: no es la secuencia original\n",
    "#uno las secuencias de exones e intrones con la modificacion de las letras\n",
    "secuencia_final = primer_exon.upper() + intrones + segundo_exon.upper() \n",
    "secuencia_final"
   ]
  },
  {
   "cell_type": "markdown",
   "metadata": {},
   "source": [
    "##\n",
    "### 4.- ESCRIBE UN ARCHIVO FASTA\n",
    "#### Escribe un archivo FASTA que tenga las siguientes secuencias:\n",
    "1. ABC123 \tATCGTACGATCGATCGATCGCTAGACGTATCG\n",
    "2. DEF456 \tactgatcgacgatcgatcgatcacgact\n",
    "3. HIJ789 \tACTGAC-ACTGT--ACTGTA----CATGTG\n",
    "\n",
    "###### *Ten en cuenta que todas las secuencias deben tener solo ATGC caracteres y tienen que estar en mayúsculas\n",
    "###### Recuerda que las secuencias en FASTA empiezan por una línea \">identificador\" y la siguiente línea tiene la secuencia\n",
    "\n",
    "###### >ABC123\n",
    "###### ATCGTACGATCGATCGATCGCTAGACGTATCG\n",
    "###### >DEF456\n",
    "###### ACTGATCGACGATCGATCGATCACGACT\n",
    "###### >HIJ789\n",
    "###### ACTGACACTGTACTGTACATGTG"
   ]
  },
  {
   "cell_type": "code",
   "execution_count": 15,
   "metadata": {
    "scrolled": false
   },
   "outputs": [
    {
     "name": "stdout",
     "output_type": "stream",
     "text": [
      ">ABC123\n",
      "ATCGTACGATCGATCGATCGCTAGACGTATCG\n",
      ">DEF456\n",
      "actgatcgacgatcgatcgatcacgact\n",
      ">HIJ789\n",
      "ACTGAC-ACTGT--ACTGTA----CATGTG\n"
     ]
    }
   ],
   "source": [
    "d={\n",
    "    'ABC123' :'ATCGTACGATCGATCGATCGCTAGACGTATCG',\n",
    "    'DEF456' : 'actgatcgacgatcgatcgatcacgact',\n",
    "    'HIJ789' : 'ACTGAC-ACTGT--ACTGTA----CATGTG'\n",
    "}\n",
    "#para que aparezca el identificador \">\"  escribo en la función print una f-string para que siempre aparezca... \n",
    "#...en primer lugar el símbolo del identificador\n",
    "for key in d.keys():\n",
    "    print(f\">{key}\")\n",
    "    print(d[key])\n",
    "#consego colocar el identificador, y ahora correjo las secuencias"
   ]
  },
  {
   "cell_type": "code",
   "execution_count": null,
   "metadata": {},
   "outputs": [],
   "source": [
    "#realizo la corrección de las secuencias"
   ]
  },
  {
   "cell_type": "code",
   "execution_count": 16,
   "metadata": {
    "scrolled": true
   },
   "outputs": [
    {
     "data": {
      "text/plain": [
       "{'ABC123': 'ATCGTACGATCGATCGATCGCTAGACGTATCG',\n",
       " 'DEF456': 'ACTGATCGACGATCGATCGATCACGACT',\n",
       " 'HIJ789': 'ACTGAC-ACTGT--ACTGTA----CATGTG'}"
      ]
     },
     "execution_count": 16,
     "metadata": {},
     "output_type": "execute_result"
    }
   ],
   "source": [
    "#paso la secuencia de minusculas a mayusculas\n",
    "d[\"DEF456\"]= d[\"DEF456\"].upper()\n",
    "#compruebo que se ha guardado\n",
    "d"
   ]
  },
  {
   "cell_type": "code",
   "execution_count": 17,
   "metadata": {
    "scrolled": true
   },
   "outputs": [
    {
     "data": {
      "text/plain": [
       "{'ABC123': 'ATCGTACGATCGATCGATCGCTAGACGTATCG',\n",
       " 'DEF456': 'ACTGATCGACGATCGATCGATCACGACT',\n",
       " 'HIJ789': 'ACTGACACTGTACTGTACATGTG'}"
      ]
     },
     "execution_count": 17,
     "metadata": {},
     "output_type": "execute_result"
    }
   ],
   "source": [
    "#en esta secuencia eliminamos los guiones\n",
    "d[\"HIJ789\"] = d[\"HIJ789\"].replace(\"-\",\"\") #empleando .replace() le indicamos que cambie \"-\", por \"\" (nada)\n",
    "#compruebo que se ha guardado\n",
    "d"
   ]
  },
  {
   "cell_type": "code",
   "execution_count": 18,
   "metadata": {},
   "outputs": [
    {
     "name": "stdout",
     "output_type": "stream",
     "text": [
      "El archivo FASTA es:\n",
      "\t >ABC123\n",
      "\t ATCGTACGATCGATCGATCGCTAGACGTATCG\n",
      "\t >DEF456\n",
      "\t ACTGATCGACGATCGATCGATCACGACT\n",
      "\t >HIJ789\n",
      "\t ACTGACACTGTACTGTACATGTG\n"
     ]
    }
   ],
   "source": [
    "#ahora con el diccionario corregido,creo el archivo FASTA\n",
    "print(\"El archivo FASTA es:\")\n",
    "for key in d.keys():\n",
    "    print(\"\\t\",f\">{key}\") #f-string para que aparezca el identificador\n",
    "    print(\"\\t\",d[key])"
   ]
  },
  {
   "cell_type": "markdown",
   "metadata": {},
   "source": [
    "##\n",
    "### 5.- ELIMINA ADAPTADORES\n",
    "#### El archivo input.txt tiene unas secuencias de ADN, una por línea. \n",
    "#### Todas las secuencias empiezan con el mismo adaptador que llega hasta la base 14. Escribe un programa que:\n",
    "1. Remueva el adaptador de la secuencia y escriba la secuencia limpia en un archivo\n",
    "2. Imprima en pantalla la longitud de cada secuencia limpia"
   ]
  },
  {
   "cell_type": "code",
   "execution_count": 19,
   "metadata": {},
   "outputs": [],
   "source": [
    "##1.Remueva el adaptador de la secuencia y escriba la secuencia limpia en un archivo"
   ]
  },
  {
   "cell_type": "code",
   "execution_count": 20,
   "metadata": {
    "scrolled": true
   },
   "outputs": [],
   "source": [
    "#empleo open() para llamar al archivo input.txt\n",
    "file = open(\"input.txt\")"
   ]
  },
  {
   "cell_type": "code",
   "execution_count": 21,
   "metadata": {
    "scrolled": false
   },
   "outputs": [
    {
     "data": {
      "text/plain": [
       "'ATTCGATTATAAGCTCGATCGATCGATCGATCGATCGATCGATCGATCGATCGATC\\nATTCGATTATAAGCACTGATCGATCGATCGATCGATCGATGCTATCGTCGT\\nATTCGATTATAAGCATCGATCACGATCTATCGTACGTATGCATATCGATATCGATCGTAGTC\\nATTCGATTATAAGCACTATCGATGATCTAGCTACGATCGTAGCTGTA\\nATTCGATTATAAGCACTAGCTAGTCTCGATGCATGATCAGCTTAGCTGATGATGCTATGCA'"
      ]
     },
     "execution_count": 21,
     "metadata": {},
     "output_type": "execute_result"
    }
   ],
   "source": [
    "#empleo .read() para ver cómo es la secuencia\n",
    "file.read()"
   ]
  },
  {
   "cell_type": "code",
   "execution_count": 23,
   "metadata": {
    "scrolled": false
   },
   "outputs": [
    {
     "data": {
      "text/plain": [
       "['ATTCGATTATAAGCTCGATCGATCGATCGATCGATCGATCGATCGATCGATCGATC',\n",
       " 'ATTCGATTATAAGCACTGATCGATCGATCGATCGATCGATGCTATCGTCGT',\n",
       " 'ATTCGATTATAAGCATCGATCACGATCTATCGTACGTATGCATATCGATATCGATCGTAGTC',\n",
       " 'ATTCGATTATAAGCACTATCGATGATCTAGCTACGATCGTAGCTGTA',\n",
       " 'ATTCGATTATAAGCACTAGCTAGTCTCGATGCATGATCAGCTTAGCTGATGATGCTATGCA']"
      ]
     },
     "execution_count": 23,
     "metadata": {},
     "output_type": "execute_result"
    }
   ],
   "source": [
    "#creo una lista para manejar mejor los datos\n",
    "lista_datos = [\"ATTCGATTATAAGCTCGATCGATCGATCGATCGATCGATCGATCGATCGATCGATC\", \"ATTCGATTATAAGCACTGATCGATCGATCGATCGATCGATGCTATCGTCGT\", \"ATTCGATTATAAGCATCGATCACGATCTATCGTACGTATGCATATCGATATCGATCGTAGTC\", \"ATTCGATTATAAGCACTATCGATGATCTAGCTACGATCGTAGCTGTA\", \"ATTCGATTATAAGCACTAGCTAGTCTCGATGCATGATCAGCTTAGCTGATGATGCTATGCA\"]\n",
    "lista_datos"
   ]
  },
  {
   "cell_type": "code",
   "execution_count": 24,
   "metadata": {},
   "outputs": [
    {
     "name": "stdout",
     "output_type": "stream",
     "text": [
      "['TCGATCGATCGATCGATCGATCGATCGATCGATCGATCGATC', 'ACTGATCGATCGATCGATCGATCGATGCTATCGTCGT', 'ATCGATCACGATCTATCGTACGTATGCATATCGATATCGATCGTAGTC', 'ACTATCGATGATCTAGCTACGATCGTAGCTGTA', 'ACTAGCTAGTCTCGATGCATGATCAGCTTAGCTGATGATGCTATGCA']\n"
     ]
    }
   ],
   "source": [
    "#creo una función para guardar las secuencias sin el adaptador\n",
    "#empleo un bucle for para que lea la secuencia \n",
    "def eliminar_secuencias(lista_datos):\n",
    "    secuencias_modificadas = []  #creo una lista vacía para guardar las nuevas secuencias\n",
    "    for secuencia in lista_datos:\n",
    "        secuencia_nueva = secuencia[14:]  #indico que quiero guarde la función a partir de la base 15, es decir, no va a guardar la secuencia del adaptador\n",
    "        secuencias_modificadas.append(secuencia_nueva) # indico que quiero que vaya agregando las nuevas secuencias de la variable \"secuencicas_nuevas\" en la lista que he creado al principio \n",
    "    return secuencias_modificadas  #indico que quiero que me devuelva la información de la lista \n",
    "\n",
    "secuencias_modificadas = eliminar_secuencias(lista_datos) #defino la lista con la función eliminar_secuencias\n",
    "print(secuencias_modificadas) \n"
   ]
  },
  {
   "cell_type": "code",
   "execution_count": 25,
   "metadata": {},
   "outputs": [
    {
     "data": {
      "text/plain": [
       "<_io.TextIOWrapper name='secuencias_resultantes_ej_5.txt' mode='w' encoding='cp1252'>"
      ]
     },
     "execution_count": 25,
     "metadata": {},
     "output_type": "execute_result"
    }
   ],
   "source": [
    "#guardo la lista en un nuevo archivo llamado \"secuencias_resultantes_ej_5\"\n",
    "secuencias_resultado = \"secuencias_resultantes_ej_5.txt\" #creo un archivo de texto para guardar las secuencias sin adapatadores de la lista \"secuencias_modificadas\"\n",
    "\n",
    "with open(secuencias_resultado, \"w\") as archivo_salida: # empleo with para poder gestionar los archivos. Le indico que lo abra y con \"w\" que me permita escribir \n",
    "     for secuencias in secuencias_modificadas: # empleo un bucleo for para que lea la lista \"secuencias_modificadas\"\n",
    "        archivo_salida.write(secuencias + \"\\n\") #inidico que quiero que escriba las secuencias en el archivo de salida\n",
    "archivo_salida # compruebo que mi archivo se ha creado bien"
   ]
  },
  {
   "cell_type": "code",
   "execution_count": 787,
   "metadata": {},
   "outputs": [],
   "source": [
    "##2.Imprima en pantalla la longitud de cada secuencia limpia"
   ]
  },
  {
   "cell_type": "code",
   "execution_count": 26,
   "metadata": {
    "scrolled": true
   },
   "outputs": [
    {
     "name": "stdout",
     "output_type": "stream",
     "text": [
      "Longitud de la secuencia es 42\n"
     ]
    }
   ],
   "source": [
    "#con esta función, podemos obtener la longitud de una sola secuencia\n",
    "def medir_longitud(secuencias_resultado): \n",
    "    for secuencias in secuencias_resultado: \n",
    "        longitud = len(secuencias_resultado[0]) #cambiando el nº del corchete podemos elegir la secuencia de la que queremos saber la longitud\n",
    "    return longitud\n",
    "longitud = medir_longitud(secuencias_modificadas)\n",
    "print(f\"Longitud de la secuencia es {longitud}\")"
   ]
  },
  {
   "cell_type": "code",
   "execution_count": 27,
   "metadata": {
    "scrolled": true
   },
   "outputs": [
    {
     "name": "stdout",
     "output_type": "stream",
     "text": [
      "La longitud de la secuencia 43\n",
      "La longitud de la secuencia 38\n",
      "La longitud de la secuencia 49\n",
      "La longitud de la secuencia 34\n",
      "La longitud de la secuencia 48\n"
     ]
    }
   ],
   "source": [
    "#empleo la función with para que abra el archivo donde están las secuencias sin el adapatador y \n",
    "#creo un bucle for para que recorra las secuencias. con la función len mido la longitud de cada secuencia\n",
    "with open(\"secuencias_resultantes_ej_5.txt\") as archivo_salida:\n",
    "    for secuencia in archivo_salida:\n",
    "        longitud = len(secuencia) #Mide la longitud de la secuencia\n",
    "        print(f\"La longitud de la secuencia {longitud}\")\n"
   ]
  },
  {
   "cell_type": "markdown",
   "metadata": {},
   "source": [
    "##\n",
    "### 6.- PORCENTAJE DE AMINO ACIDOS\n",
    "#### Escribe una función que tome dos argumentos: una secuencia de proteínas y un amino ácido. \n",
    "#### Queremos que devuelva el porcentaje del amino ácido en la secuencia de proteínas. \n",
    "#### Una vez que tengas hecha tu función, emplea las siguientes aserciones para comprobar tu código."
   ]
  },
  {
   "cell_type": "code",
   "execution_count": 161,
   "metadata": {},
   "outputs": [],
   "source": [
    "#defino las secuencias"
   ]
  },
  {
   "cell_type": "code",
   "execution_count": 28,
   "metadata": {},
   "outputs": [],
   "source": [
    "prot = \"MSRSLLLRFLLFLLLLPPLP\" #secuencia de proteinas\n",
    "aa = \"msrslllrfllfllllpplp\" #secuencia de aminoacidos"
   ]
  },
  {
   "cell_type": "code",
   "execution_count": 29,
   "metadata": {},
   "outputs": [],
   "source": [
    "#defino una función con un bucle for para que lea la secuencia de proteinas \"prot\" \n",
    "def obtener_porcentajes(prot, aa):\n",
    "    return int(prot.upper().count(aa.upper())/len(prot)*100)#con la función .count() cuento los aminoácidos y con len() obtendo la longitud total de la secuencia de proteinas\n",
    "#explicacion de comandos: \n",
    "#int: hace que el resultado se exprese en números enteros\n",
    "#uso la función .upper para que encuentre los aminoácidos de forma indipendiente a cómo estén escritos los aminoácidos (si están en mayúscula o minúscula)"
   ]
  },
  {
   "cell_type": "code",
   "execution_count": 165,
   "metadata": {},
   "outputs": [],
   "source": [
    "#comprobación de los comandos assert"
   ]
  },
  {
   "cell_type": "code",
   "execution_count": 30,
   "metadata": {},
   "outputs": [],
   "source": [
    "assert obtener_porcentajes(\"MSRSLLLRFLLFLLLLPPLP\", \"M\") == 5\n",
    "assert obtener_porcentajes(\"MSRSLLLRFLLFLLLLPPLP\", \"r\") == 10\n",
    "assert obtener_porcentajes(\"msrslllrfllfllllpplp\", \"L\") == 50\n",
    "assert obtener_porcentajes(\"MSRSLLLRFLLFLLLLPPLP\", \"Y\") == 0"
   ]
  },
  {
   "cell_type": "code",
   "execution_count": 31,
   "metadata": {
    "scrolled": true
   },
   "outputs": [
    {
     "data": {
      "text/plain": [
       "5"
      ]
     },
     "execution_count": 31,
     "metadata": {},
     "output_type": "execute_result"
    }
   ],
   "source": [
    "obtener_porcentajes(\"MSRSLLLRFLLFLLLLPPLP\", \"M\")"
   ]
  },
  {
   "cell_type": "code",
   "execution_count": 32,
   "metadata": {
    "scrolled": true
   },
   "outputs": [
    {
     "data": {
      "text/plain": [
       "10"
      ]
     },
     "execution_count": 32,
     "metadata": {},
     "output_type": "execute_result"
    }
   ],
   "source": [
    "obtener_porcentajes(\"MSRSLLLRFLLFLLLLPPLP\", \"r\")"
   ]
  },
  {
   "cell_type": "code",
   "execution_count": 33,
   "metadata": {},
   "outputs": [
    {
     "data": {
      "text/plain": [
       "50"
      ]
     },
     "execution_count": 33,
     "metadata": {},
     "output_type": "execute_result"
    }
   ],
   "source": [
    "obtener_porcentajes(\"msrslllrfllfllllpplp\", \"L\")"
   ]
  },
  {
   "cell_type": "code",
   "execution_count": 155,
   "metadata": {},
   "outputs": [
    {
     "data": {
      "text/plain": [
       "0"
      ]
     },
     "execution_count": 155,
     "metadata": {},
     "output_type": "execute_result"
    }
   ],
   "source": [
    "obtener_porcentajes(\"MSRSLLLRFLLFLLLLPPLP\", \"Y\")"
   ]
  },
  {
   "cell_type": "code",
   "execution_count": 168,
   "metadata": {
    "scrolled": true
   },
   "outputs": [
    {
     "name": "stdout",
     "output_type": "stream",
     "text": [
      "Los porcentajes de cada aminoácido son: \n",
      "{'M': 5.0, 'R': (10.0,), 'S': (10.0,), 'L': (50.0,), 'F': (10.0,), 'P': (15.0,)}\n"
     ]
    }
   ],
   "source": [
    "##intentando el hacer el ejercicio, describí una función para obtener el porcentaje de todos los aminoácidos de la cadena  \n",
    "#defino una función con un bucle for para que lea la secuencia de proteinas \"prot\" \n",
    "print(\"Los porcentajes de cada aminoácido son: \")\n",
    "def obtener_porcentajes(prot, aa):\n",
    "    porcentajes_aa = [\"M\", \"R\",\"S\",\"L\",\"F\",\"P\"] #creo un diccionario para guardar los datos de porcentaje\n",
    "    longitud=len(prot) #empleo len() para saber la longitud total de la cadena \"prot\"\n",
    "    for aa in prot:\n",
    "        porcentaje_m = (prot.count(\"M\")/longitud)*100 #genero una variable para cada aminoácido y con la función . count() le indico que cuente un aminoácido en específico\n",
    "        porcentaje_r = (prot.count(\"R\")/longitud)*100\n",
    "        porcentaje_s = (prot.count(\"S\")/longitud)*100\n",
    "        porcentaje_l = (prot.count(\"L\")/longitud)*100\n",
    "        porcentaje_f = (prot.count(\"F\")/longitud)*100\n",
    "        porcentaje_p = (prot.count(\"P\")/longitud)*100\n",
    "    return porcentajes_aa\n",
    "porcentajes_aa = {\n",
    "    \"M\": porcentaje_m,\n",
    "    \"R\": porcentaje_r, \n",
    "    \"S\": porcentaje_s, \n",
    "    \"L\": porcentaje_l, \n",
    "    \"F\": porcentaje_f, \n",
    "    \"P\": porcentaje_p\n",
    "}\n",
    "print(porcentajes_aa)"
   ]
  }
 ],
 "metadata": {
  "kernelspec": {
   "display_name": "Python 3 (ipykernel)",
   "language": "python",
   "name": "python3"
  },
  "language_info": {
   "codemirror_mode": {
    "name": "ipython",
    "version": 3
   },
   "file_extension": ".py",
   "mimetype": "text/x-python",
   "name": "python",
   "nbconvert_exporter": "python",
   "pygments_lexer": "ipython3",
   "version": "3.11.4"
  }
 },
 "nbformat": 4,
 "nbformat_minor": 4
}
